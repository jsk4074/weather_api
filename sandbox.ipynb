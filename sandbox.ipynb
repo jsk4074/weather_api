{
 "cells": [
  {
   "cell_type": "code",
   "execution_count": 2,
   "metadata": {},
   "outputs": [],
   "source": [
    "# import some lib\n",
    "import requests\n",
    "import pprint\n",
    "import json\n",
    "\n",
    "# api url\n",
    "url = 'http://apis.data.go.kr/B090026/AirqualityService/getStackStdr'\n",
    "\n",
    "# url request\n",
    "response = requests.get(url)\n",
    "\n",
    "# Export raw data\n",
    "contents = response.text"
   ]
  },
  {
   "cell_type": "code",
   "execution_count": 3,
   "metadata": {},
   "outputs": [
    {
     "name": "stdout",
     "output_type": "stream",
     "text": [
      "<OpenAPI_ServiceResponse>\n",
      "\t<cmmMsgHeader>\n",
      "\t\t<errMsg>SERVICE ERROR</errMsg>\n",
      "\t\t<returnAuthMsg>SERVICE_KEY_IS_NOT_REGISTERED_ERROR</returnAuthMsg>\n",
      "\t\t<returnReasonCode>30</returnReasonCode>\n",
      "\t</cmmMsgHeader>\n",
      "</OpenAPI_ServiceResponse>\n"
     ]
    }
   ],
   "source": [
    "print(contents)"
   ]
  },
  {
   "cell_type": "code",
   "execution_count": 4,
   "metadata": {},
   "outputs": [
    {
     "name": "stdout",
     "output_type": "stream",
     "text": [
      "b'{\"response\": {\"header\": {\"resultCode\": \"00\",\"resultMsg\": \"NORMAL_SERVICE\"},\"body\": {\"mgtno\":\"ME2012C002\",\"stacks\":[{\"stackNm\":\"\\xec\\xa3\\xbc\\xec\\x97\\xb0\\xeb\\x8f\\x8c\",\"stackHg\":\"65\",\"stackIndm\":\"6.64\"}]}}}'\n"
     ]
    }
   ],
   "source": [
    "# Python3 샘플 코드 #\n",
    "\n",
    "service_key = 'ikzWoUSWdo9jXWMm/Bc/KDLAJMoh4naiLx36qQciSrK6kJ/z22T2Mtq7mT+hU6spRFh3AM68Jhu1h2yI35ZWXw=='\n",
    "\n",
    "import requests\n",
    "\n",
    "url = 'http://apis.data.go.kr/B090026/AirqualityService/getStackStdr'\n",
    "params ={'serviceKey' : service_key, 'mgtNo' : 'ME2012C002', 'stackNm' : '주연돌', 'type' : 'json' }\n",
    "\n",
    "response = requests.get(url, params=params)\n",
    "print(response.content)"
   ]
  },
  {
   "cell_type": "code",
   "execution_count": null,
   "metadata": {},
   "outputs": [],
   "source": []
  }
 ],
 "metadata": {
  "interpreter": {
   "hash": "4031a39a34c6e1f3914a7e5c5ecc6f0b5a8471480f656d8ef918b14e8339c35c"
  },
  "kernelspec": {
   "display_name": "Python 3.9.8 64-bit",
   "language": "python",
   "name": "python3"
  },
  "language_info": {
   "codemirror_mode": {
    "name": "ipython",
    "version": 3
   },
   "file_extension": ".py",
   "mimetype": "text/x-python",
   "name": "python",
   "nbconvert_exporter": "python",
   "pygments_lexer": "ipython3",
   "version": "3.9.8"
  },
  "orig_nbformat": 4
 },
 "nbformat": 4,
 "nbformat_minor": 2
}
